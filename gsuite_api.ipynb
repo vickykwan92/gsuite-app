{
 "cells": [
  {
   "cell_type": "markdown",
   "metadata": {},
   "source": [
    "# read sheet rows"
   ]
  },
  {
   "cell_type": "code",
   "execution_count": 1,
   "metadata": {},
   "outputs": [],
   "source": [
    "from __future__ import print_function\n",
    "import pickle\n",
    "import os.path\n",
    "from googleapiclient.discovery import build\n",
    "from google_auth_oauthlib.flow import InstalledAppFlow\n",
    "from google.auth.transport.requests import Request\n"
   ]
  },
  {
   "cell_type": "code",
   "execution_count": 2,
   "metadata": {},
   "outputs": [],
   "source": [
    "# If modifying these scopes, delete the file token.pickle.\n",
    "SCOPES = ['https://www.googleapis.com/auth/spreadsheets.readonly']\n"
   ]
  },
  {
   "cell_type": "code",
   "execution_count": 3,
   "metadata": {},
   "outputs": [],
   "source": [
    "# The ID and range of a sample spreadsheet.\n",
    "SPREADSHEET_ID = '1mcq90dK81WKiwgk9kczRyCccb6VO2H11kT2d5RoS8iQ'\n",
    "RANGE_NAME = 'opportunities_looker!A1:E'\n"
   ]
  },
  {
   "cell_type": "code",
   "execution_count": 5,
   "metadata": {},
   "outputs": [
    {
     "name": "stdout",
     "output_type": "stream",
     "text": [
      "Please visit this URL to authorize this application: https://accounts.google.com/o/oauth2/auth?response_type=code&client_id=474716112864-hh2gs0lrd1ie9ja4k18nnnjttceeg8og.apps.googleusercontent.com&redirect_uri=http%3A%2F%2Flocalhost%3A50221%2F&scope=https%3A%2F%2Fwww.googleapis.com%2Fauth%2Fspreadsheets.readonly&state=ckasjdyUsyV2SmejnlhTXVw98zhN4l&access_type=offline&code_challenge=dkNcVixQw1mc210NkX-082htP7tu3hAjeYCG9dqL1EI&code_challenge_method=S256\n"
     ]
    }
   ],
   "source": [
    "\"\"\"Shows basic usage of the Sheets API.\n",
    "Prints values from a sample spreadsheet.\n",
    "\"\"\"\n",
    "creds = None\n",
    "# The file token.pickle stores the user's access and refresh tokens, and is\n",
    "# created automatically when the authorization flow completes for the first\n",
    "# time.\n",
    "if os.path.exists('token.pickle'):\n",
    "    with open('token.pickle', 'rb') as token:\n",
    "        creds = pickle.load(token)\n",
    "# If there are no (valid) credentials available, let the user log in.\n",
    "if not creds or not creds.valid:\n",
    "    if creds and creds.expired and creds.refresh_token:\n",
    "        creds.refresh(Request())\n",
    "    else:\n",
    "        flow = InstalledAppFlow.from_client_secrets_file(\n",
    "            'credentials.json', SCOPES)\n",
    "        creds = flow.run_local_server(port=0)\n",
    "    # Save the credentials for the next run\n",
    "    with open('token.pickle', 'wb') as token:\n",
    "        pickle.dump(creds, token)\n",
    "\n",
    "service = build('sheets', 'v4', credentials=creds)\n",
    "\n"
   ]
  },
  {
   "cell_type": "code",
   "execution_count": 7,
   "metadata": {},
   "outputs": [],
   "source": [
    "# Call the Sheets API\n",
    "sheet = service.spreadsheets()\n",
    "result = sheet.values().get(spreadsheetId=SPREADSHEET_ID,\n",
    "                            range=RANGE_NAME).execute()\n",
    "values = result.get('values', [])\n"
   ]
  },
  {
   "cell_type": "code",
   "execution_count": 16,
   "metadata": {},
   "outputs": [],
   "source": [
    "sheet_result = sheet.get(spreadsheetId=SPREADSHEET_ID).execute()"
   ]
  },
  {
   "cell_type": "code",
   "execution_count": 18,
   "metadata": {
    "collapsed": true
   },
   "outputs": [
    {
     "data": {
      "text/plain": [
       "{'spreadsheetId': '1mcq90dK81WKiwgk9kczRyCccb6VO2H11kT2d5RoS8iQ',\n",
       " 'properties': {'title': 'BDR Meeting KPIs and Opportunity Targets',\n",
       "  'locale': 'en_US',\n",
       "  'autoRecalc': 'ON_CHANGE',\n",
       "  'timeZone': 'America/Los_Angeles',\n",
       "  'defaultFormat': {'backgroundColor': {'red': 1, 'green': 1, 'blue': 1},\n",
       "   'padding': {'top': 2, 'right': 3, 'bottom': 2, 'left': 3},\n",
       "   'verticalAlignment': 'BOTTOM',\n",
       "   'wrapStrategy': 'OVERFLOW_CELL',\n",
       "   'textFormat': {'foregroundColor': {},\n",
       "    'fontFamily': 'arial,sans,sans-serif',\n",
       "    'fontSize': 10,\n",
       "    'bold': False,\n",
       "    'italic': False,\n",
       "    'strikethrough': False,\n",
       "    'underline': False}}},\n",
       " 'sheets': [{'properties': {'sheetId': 0,\n",
       "    'title': 'Meetings',\n",
       "    'index': 0,\n",
       "    'sheetType': 'GRID',\n",
       "    'gridProperties': {'rowCount': 996,\n",
       "     'columnCount': 27,\n",
       "     'frozenRowCount': 1}},\n",
       "   'basicFilter': {'range': {'startRowIndex': 0,\n",
       "     'endRowIndex': 12,\n",
       "     'startColumnIndex': 0,\n",
       "     'endColumnIndex': 11},\n",
       "    'criteria': {'0': {}}}},\n",
       "  {'properties': {'sheetId': 1514137240,\n",
       "    'title': 'meetings_looker',\n",
       "    'index': 1,\n",
       "    'sheetType': 'GRID',\n",
       "    'gridProperties': {'rowCount': 1007,\n",
       "     'columnCount': 14,\n",
       "     'frozenRowCount': 1}},\n",
       "   'basicFilter': {'range': {'sheetId': 1514137240,\n",
       "     'startRowIndex': 0,\n",
       "     'endRowIndex': 89,\n",
       "     'startColumnIndex': 0,\n",
       "     'endColumnIndex': 5}}},\n",
       "  {'properties': {'sheetId': 415198609,\n",
       "    'title': 'Opportunities',\n",
       "    'index': 2,\n",
       "    'sheetType': 'GRID',\n",
       "    'gridProperties': {'rowCount': 1000,\n",
       "     'columnCount': 26,\n",
       "     'frozenRowCount': 1}},\n",
       "   'basicFilter': {'range': {'sheetId': 415198609,\n",
       "     'startRowIndex': 0,\n",
       "     'endRowIndex': 12,\n",
       "     'startColumnIndex': 0,\n",
       "     'endColumnIndex': 11},\n",
       "    'criteria': {'0': {}}}},\n",
       "  {'properties': {'sheetId': 1771550083,\n",
       "    'title': 'opportunities_looker',\n",
       "    'index': 3,\n",
       "    'sheetType': 'GRID',\n",
       "    'gridProperties': {'rowCount': 1000,\n",
       "     'columnCount': 26,\n",
       "     'frozenRowCount': 1}},\n",
       "   'basicFilter': {'range': {'sheetId': 1771550083,\n",
       "     'startRowIndex': 0,\n",
       "     'endRowIndex': 89,\n",
       "     'startColumnIndex': 0,\n",
       "     'endColumnIndex': 5}}}],\n",
       " 'spreadsheetUrl': 'https://docs.google.com/a/docker.com/spreadsheets/d/1mcq90dK81WKiwgk9kczRyCccb6VO2H11kT2d5RoS8iQ/edit'}"
      ]
     },
     "execution_count": 18,
     "metadata": {},
     "output_type": "execute_result"
    }
   ],
   "source": [
    "sheet_result"
   ]
  },
  {
   "cell_type": "code",
   "execution_count": 9,
   "metadata": {
    "collapsed": true
   },
   "outputs": [
    {
     "name": "stdout",
     "output_type": "stream",
     "text": [
      "[['GEO', 'USER ID', 'BDR', 'Number of Oppty', 'Month'], ['EMEA', '0050f000009neAi', 'Damian Dziengo', '5', '5/1/2019'], ['EMEA', '0050f000009neAi', 'Damian Dziengo', '5', '6/1/2019'], ['EMEA', '0050f000009neAi', 'Damian Dziengo', '5', '7/1/2019'], ['EMEA', '0050f000009neAi', 'Damian Dziengo', '5', '8/1/2019'], ['EMEA', '0050f000009neAi', 'Damian Dziengo', '5', '9/1/2019'], ['EMEA', '0050f000009neAi', 'Damian Dziengo', '5', '10/1/2019'], ['EMEA', '0050f000009neAi', 'Damian Dziengo', '5', '11/1/2019'], ['EMEA', '0050f000009neAi', 'Damian Dziengo', '5', '12/1/2019'], ['AMER', '0050f000009LDlZ', 'Kevin Mununga', '6', '5/1/2019'], ['AMER', '0050f000009LDlZ', 'Kevin Mununga', '6', '6/1/2019'], ['AMER', '0050f000009LDlZ', 'Kevin Mununga', '6', '7/1/2019'], ['AMER', '0050f000009LDlZ', 'Kevin Mununga', '6', '8/1/2019'], ['AMER', '0050f000009LDlZ', 'Kevin Mununga', '6', '9/1/2019'], ['AMER', '0050f000009LDlZ', 'Kevin Mununga', '6', '10/1/2019'], ['AMER', '0050f000009LDlZ', 'Kevin Mununga', '6', '11/1/2019'], ['AMER', '0050f000009LDlZ', 'Kevin Mununga', '6', '12/1/2019'], ['AMER', '0050f000009LDLM', 'Zach Ryan', '6', '5/1/2019'], ['AMER', '0050f000009LDLM', 'Zach Ryan', '6', '6/1/2019'], ['AMER', '0050f000009LDLM', 'Zach Ryan', '6', '7/1/2019'], ['AMER', '0050f000009LDLM', 'Zach Ryan', '6', '8/1/2019'], ['AMER', '0050f000009LDLM', 'Zach Ryan', '6', '9/1/2019'], ['AMER', '0050f000009LDLM', 'Zach Ryan', '6', '10/1/2019'], ['AMER', '0050f000009LDLM', 'Zach Ryan', '6', '11/1/2019'], ['AMER', '0050f000009LDLM', 'Zach Ryan', '6', '12/1/2019'], ['EMEA', '0050f000009FCyh', 'Darlene Oniemba', '5', '5/1/2019'], ['EMEA', '0050f000009FCyh', 'Darlene Oniemba', '5', '6/1/2019'], ['EMEA', '0050f000009FCyh', 'Darlene Oniemba', '5', '7/1/2019'], ['EMEA', '0050f000009FCyh', 'Darlene Oniemba', '5', '8/1/2019'], ['EMEA', '0050f000009FCyh', 'Darlene Oniemba', '5', '9/1/2019'], ['EMEA', '0050f000009FCyh', 'Darlene Oniemba', '5', '10/1/2019'], ['EMEA', '0050f000009FCyh', 'Darlene Oniemba', '5', '11/1/2019'], ['EMEA', '0050f000009FCyh', 'Darlene Oniemba', '5', '12/1/2019'], ['EMEA', '0050f000009FAan', 'Jacob Gillis', '5', '5/1/2019'], ['EMEA', '0050f000009FAan', 'Jacob Gillis', '5', '6/1/2019'], ['EMEA', '0050f000009FAan', 'Jacob Gillis', '5', '7/1/2019'], ['EMEA', '0050f000009FAan', 'Jacob Gillis', '5', '8/1/2019'], ['EMEA', '0050f000009FAan', 'Jacob Gillis', '5', '9/1/2019'], ['EMEA', '0050f000009FAan', 'Jacob Gillis', '5', '10/1/2019'], ['EMEA', '0050f000009FAan', 'Jacob Gillis', '5', '11/1/2019'], ['EMEA', '0050f000009FAan', 'Jacob Gillis', '5', '12/1/2019'], ['AMER', '0050f000008OJMQ', 'Kelsey Mirkin', '6', '5/1/2019'], ['AMER', '0050f000008OJMQ', 'Kelsey Mirkin', '6', '6/1/2019'], ['AMER', '0050f000008OJMQ', 'Kelsey Mirkin', '6', '7/1/2019'], ['AMER', '0050f000008OJMQ', 'Kelsey Mirkin', '6', '8/1/2019'], ['AMER', '0050f000008OJMQ', 'Kelsey Mirkin', '6', '9/1/2019'], ['AMER', '0050f000008OJMQ', 'Kelsey Mirkin', '6', '10/1/2019'], ['AMER', '0050f000008OJMQ', 'Kelsey Mirkin', '6', '11/1/2019'], ['AMER', '0050f000008OJMQ', 'Kelsey Mirkin', '6', '12/1/2019'], ['AMER', '0050f000008OJMQ', 'Mark Falkner', '6', '5/1/2019'], ['AMER', '0050f000008OJMQ', 'Mark Falkner', '6', '6/1/2019'], ['AMER', '0050f000008OJMQ', 'Mark Falkner', '6', '7/1/2019'], ['AMER', '0050f000008OJMQ', 'Mark Falkner', '6', '8/1/2019'], ['AMER', '0050f000008OJMQ', 'Mark Falkner', '6', '9/1/2019'], ['AMER', '0050f000008OJMQ', 'Mark Falkner', '6', '10/1/2019'], ['AMER', '0050f000008OJMQ', 'Mark Falkner', '6', '11/1/2019'], ['AMER', '0050f000008OJMQ', 'Mark Falkner', '6', '12/1/2019'], ['EMEA', '0050f000009FAGO', 'Julia Gruszczynski', '5', '5/1/2019'], ['EMEA', '0050f000009FAGO', 'Julia Gruszczynski', '5', '6/1/2019'], ['EMEA', '0050f000009FAGO', 'Julia Gruszczynski', '5', '7/1/2019'], ['EMEA', '0050f000009FAGO', 'Julia Gruszczynski', '5', '8/1/2019'], ['EMEA', '0050f000009FAGO', 'Julia Gruszczynski', '5', '9/1/2019'], ['EMEA', '0050f000009FAGO', 'Julia Gruszczynski', '5', '10/1/2019'], ['EMEA', '0050f000009FAGO', 'Julia Gruszczynski', '5', '11/1/2019'], ['EMEA', '0050f000009FAGO', 'Julia Gruszczynski', '5', '12/1/2019'], ['EMEA', '0050f000009v0gr', 'Matthew Delogu', '5', '5/1/2019'], ['EMEA', '0050f000009v0gr', 'Matthew Delogu', '5', '6/1/2019'], ['EMEA', '0050f000009v0gr', 'Matthew Delogu', '5', '7/1/2019'], ['EMEA', '0050f000009v0gr', 'Matthew Delogu', '5', '8/1/2019'], ['EMEA', '0050f000009v0gr', 'Matthew Delogu', '5', '9/1/2019'], ['EMEA', '0050f000009v0gr', 'Matthew Delogu', '5', '10/1/2019'], ['EMEA', '0050f000009v0gr', 'Matthew Delogu', '5', '11/1/2019'], ['EMEA', '0050f000009v0gr', 'Matthew Delogu', '5', '12/1/2019'], ['AMER', '0050f000009gfYI', 'Cameron Rose', '6', '5/1/2019'], ['AMER', '0050f000009gfYI', 'Cameron Rose', '6', '6/1/2019'], ['AMER', '0050f000009gfYI', 'Cameron Rose', '6', '7/1/2019'], ['AMER', '0050f000009gfYI', 'Cameron Rose', '6', '8/1/2019'], ['AMER', '0050f000009gfYI', 'Cameron Rose', '6', '9/1/2019'], ['AMER', '0050f000009gfYI', 'Cameron Rose', '6', '10/1/2019'], ['AMER', '0050f000009gfYI', 'Cameron Rose', '6', '11/1/2019'], ['AMER', '0050f000009gfYI', 'Cameron Rose', '6', '12/1/2019'], ['AMER', '0050f000009o1oR', 'Michael Cutts', '6', '5/1/2019'], ['AMER', '0050f000009o1oR', 'Michael Cutts', '6', '6/1/2019'], ['AMER', '0050f000009o1oR', 'Michael Cutts', '6', '7/1/2019'], ['AMER', '0050f000009o1oR', 'Michael Cutts', '6', '8/1/2019'], ['AMER', '0050f000009o1oR', 'Michael Cutts', '6', '9/1/2019'], ['AMER', '0050f000009o1oR', 'Michael Cutts', '6', '10/1/2019'], ['AMER', '0050f000009o1oR', 'Michael Cutts', '6', '11/1/2019'], ['AMER', '0050f000009o1oR', 'Michael Cutts', '6', '12/1/2019']]\n"
     ]
    }
   ],
   "source": [
    "if not values:\n",
    "    print('No data found.')\n",
    "else:\n",
    "    print(values)\n"
   ]
  },
  {
   "cell_type": "markdown",
   "metadata": {},
   "source": [
    "# change logs for drive"
   ]
  },
  {
   "cell_type": "code",
   "execution_count": 1,
   "metadata": {},
   "outputs": [],
   "source": [
    "from __future__ import print_function\n",
    "import pickle\n",
    "import os.path\n",
    "from googleapiclient.discovery import build\n",
    "from google_auth_oauthlib.flow import InstalledAppFlow\n",
    "from google.auth.transport.requests import Request\n",
    "\n",
    "# If modifying these scopes, delete the file token.pickle.\n",
    "SCOPES = ['https://www.googleapis.com/auth/drive.metadata.readonly']\n",
    "\n"
   ]
  },
  {
   "cell_type": "code",
   "execution_count": 7,
   "metadata": {},
   "outputs": [],
   "source": [
    "creds = None\n",
    "# The file token.pickle stores the user's access and refresh tokens, and is\n",
    "# created automatically when the authorization flow completes for the first\n",
    "# time.\n",
    "if os.path.exists('token.pickle'):\n",
    "    with open('token.pickle', 'rb') as token:\n",
    "        creds = pickle.load(token)\n",
    "# If there are no (valid) credentials available, let the user log in.\n",
    "if not creds or not creds.valid:\n",
    "    if creds and creds.expired and creds.refresh_token:\n",
    "        creds.refresh(Request())\n",
    "    else:\n",
    "        flow = InstalledAppFlow.from_client_secrets_file(\n",
    "            'gsuite_credentials.json', SCOPES)\n",
    "        creds = flow.run_local_server(port=0)\n",
    "    # Save the credentials for the next run\n",
    "    with open('token.pickle', 'wb') as token:\n",
    "        pickle.dump(creds, token)\n",
    "\n",
    "service = build('drive', 'v3', credentials=creds)\n",
    "        "
   ]
  },
  {
   "cell_type": "code",
   "execution_count": 22,
   "metadata": {},
   "outputs": [
    {
     "name": "stdout",
     "output_type": "stream",
     "text": [
      "Files:\n",
      "BDR Meeting KPIs and Opportunity Targets (1mcq90dK81WKiwgk9kczRyCccb6VO2H11kT2d5RoS8iQ)\n",
      "Finance Metrics (1yRrgnEdujAsSjIDQEYIVmAHluvYVNBtw9nucoLJ7o9w)\n"
     ]
    }
   ],
   "source": [
    "# Call the Drive v3 API\n",
    "results = service.files().list(\n",
    "    pageSize=100, fields=\"nextPageToken, files(id, name)\").execute()\n",
    "items = results.get('files', [])\n",
    "\n",
    "if not items:\n",
    "    print('No files found.')\n",
    "else:\n",
    "    print('Files:')\n",
    "    for item in items:\n",
    "        if item['name'] in ('BDR Meeting KPIs and Opportunity Targets', 'Finance Metrics'):\n",
    "            print(u'{0} ({1})'.format(item['name'], item['id']))\n",
    "        "
   ]
  },
  {
   "cell_type": "code",
   "execution_count": 10,
   "metadata": {},
   "outputs": [],
   "source": [
    "response = service.changes().getStartPageToken().execute()"
   ]
  },
  {
   "cell_type": "code",
   "execution_count": 11,
   "metadata": {},
   "outputs": [
    {
     "data": {
      "text/plain": [
       "'747'"
      ]
     },
     "execution_count": 11,
     "metadata": {},
     "output_type": "execute_result"
    }
   ],
   "source": [
    "response.get('startPageToken')"
   ]
  },
  {
   "cell_type": "code",
   "execution_count": 15,
   "metadata": {},
   "outputs": [],
   "source": [
    "page_token = '747'\n",
    "while page_token is not None:\n",
    "    response = service.changes().list(pageToken=page_token,\n",
    "                                            spaces='drive').execute()\n",
    "    for change in response.get('changes'):\n",
    "        # Process change\n",
    "        print('Change found for file: %s' % change.get('fileId'))\n",
    "    if 'newStartPageToken' in response:\n",
    "        # Last page, save this token for the next polling interval\n",
    "        saved_start_page_token = response.get('newStartPageToken')\n",
    "    page_token = response.get('nextPageToken')"
   ]
  },
  {
   "cell_type": "code",
   "execution_count": 16,
   "metadata": {},
   "outputs": [
    {
     "data": {
      "text/plain": [
       "{'kind': 'drive#changeList', 'newStartPageToken': '747', 'changes': []}"
      ]
     },
     "execution_count": 16,
     "metadata": {},
     "output_type": "execute_result"
    }
   ],
   "source": [
    "response"
   ]
  },
  {
   "cell_type": "markdown",
   "metadata": {},
   "source": [
    "# moving to file level (change logs)"
   ]
  },
  {
   "cell_type": "code",
   "execution_count": 27,
   "metadata": {},
   "outputs": [],
   "source": [
    "request_body = {\n",
    "\"kind\": \"drive#file\",\n",
    "   \"id\": \"1mcq90dK81WKiwgk9kczRyCccb6VO2H11kT2d5RoS8iQ\",\n",
    "   \"name\": \"BDR Meeting KPIs and Opportunity Targets\",\n",
    "   \"mimeType\": \"application/vnd.google-apps.spreadsheet\"\n",
    "}"
   ]
  },
  {
   "cell_type": "code",
   "execution_count": 31,
   "metadata": {},
   "outputs": [
    {
     "ename": "HttpError",
     "evalue": "<HttpError 400 when requesting https://www.googleapis.com/drive/v3/files/1mcq90dK81WKiwgk9kczRyCccb6VO2H11kT2d5RoS8iQ/watch?alt=json returned \"entity.resource\">",
     "output_type": "error",
     "traceback": [
      "\u001b[0;31m---------------------------------------------------------------------------\u001b[0m",
      "\u001b[0;31mHttpError\u001b[0m                                 Traceback (most recent call last)",
      "\u001b[0;32m<ipython-input-31-550a434dc7e7>\u001b[0m in \u001b[0;36m<module>\u001b[0;34m\u001b[0m\n\u001b[1;32m      1\u001b[0m \u001b[0mSCOPES\u001b[0m \u001b[0;34m=\u001b[0m \u001b[0;34m[\u001b[0m\u001b[0;34m'https://www.googleapis.com/auth/drive.file'\u001b[0m\u001b[0;34m]\u001b[0m\u001b[0;34m\u001b[0m\u001b[0;34m\u001b[0m\u001b[0m\n\u001b[1;32m      2\u001b[0m \u001b[0mservice\u001b[0m \u001b[0;34m=\u001b[0m \u001b[0mbuild\u001b[0m\u001b[0;34m(\u001b[0m\u001b[0;34m'drive'\u001b[0m\u001b[0;34m,\u001b[0m \u001b[0;34m'v3'\u001b[0m\u001b[0;34m,\u001b[0m \u001b[0mcredentials\u001b[0m\u001b[0;34m=\u001b[0m\u001b[0mcreds\u001b[0m\u001b[0;34m)\u001b[0m\u001b[0;34m\u001b[0m\u001b[0;34m\u001b[0m\u001b[0m\n\u001b[0;32m----> 3\u001b[0;31m response = service.files().watch(fileId='1mcq90dK81WKiwgk9kczRyCccb6VO2H11kT2d5RoS8iQ'\n\u001b[0m\u001b[1;32m      4\u001b[0m                                 ).execute()\n",
      "\u001b[0;32m/usr/local/lib/python3.7/site-packages/googleapiclient/_helpers.py\u001b[0m in \u001b[0;36mpositional_wrapper\u001b[0;34m(*args, **kwargs)\u001b[0m\n\u001b[1;32m    128\u001b[0m                 \u001b[0;32melif\u001b[0m \u001b[0mpositional_parameters_enforcement\u001b[0m \u001b[0;34m==\u001b[0m \u001b[0mPOSITIONAL_WARNING\u001b[0m\u001b[0;34m:\u001b[0m\u001b[0;34m\u001b[0m\u001b[0;34m\u001b[0m\u001b[0m\n\u001b[1;32m    129\u001b[0m                     \u001b[0mlogger\u001b[0m\u001b[0;34m.\u001b[0m\u001b[0mwarning\u001b[0m\u001b[0;34m(\u001b[0m\u001b[0mmessage\u001b[0m\u001b[0;34m)\u001b[0m\u001b[0;34m\u001b[0m\u001b[0;34m\u001b[0m\u001b[0m\n\u001b[0;32m--> 130\u001b[0;31m             \u001b[0;32mreturn\u001b[0m \u001b[0mwrapped\u001b[0m\u001b[0;34m(\u001b[0m\u001b[0;34m*\u001b[0m\u001b[0margs\u001b[0m\u001b[0;34m,\u001b[0m \u001b[0;34m**\u001b[0m\u001b[0mkwargs\u001b[0m\u001b[0;34m)\u001b[0m\u001b[0;34m\u001b[0m\u001b[0;34m\u001b[0m\u001b[0m\n\u001b[0m\u001b[1;32m    131\u001b[0m         \u001b[0;32mreturn\u001b[0m \u001b[0mpositional_wrapper\u001b[0m\u001b[0;34m\u001b[0m\u001b[0;34m\u001b[0m\u001b[0m\n\u001b[1;32m    132\u001b[0m \u001b[0;34m\u001b[0m\u001b[0m\n",
      "\u001b[0;32m/usr/local/lib/python3.7/site-packages/googleapiclient/http.py\u001b[0m in \u001b[0;36mexecute\u001b[0;34m(self, http, num_retries)\u001b[0m\n\u001b[1;32m    854\u001b[0m       \u001b[0mcallback\u001b[0m\u001b[0;34m(\u001b[0m\u001b[0mresp\u001b[0m\u001b[0;34m)\u001b[0m\u001b[0;34m\u001b[0m\u001b[0;34m\u001b[0m\u001b[0m\n\u001b[1;32m    855\u001b[0m     \u001b[0;32mif\u001b[0m \u001b[0mresp\u001b[0m\u001b[0;34m.\u001b[0m\u001b[0mstatus\u001b[0m \u001b[0;34m>=\u001b[0m \u001b[0;36m300\u001b[0m\u001b[0;34m:\u001b[0m\u001b[0;34m\u001b[0m\u001b[0;34m\u001b[0m\u001b[0m\n\u001b[0;32m--> 856\u001b[0;31m       \u001b[0;32mraise\u001b[0m \u001b[0mHttpError\u001b[0m\u001b[0;34m(\u001b[0m\u001b[0mresp\u001b[0m\u001b[0;34m,\u001b[0m \u001b[0mcontent\u001b[0m\u001b[0;34m,\u001b[0m \u001b[0muri\u001b[0m\u001b[0;34m=\u001b[0m\u001b[0mself\u001b[0m\u001b[0;34m.\u001b[0m\u001b[0muri\u001b[0m\u001b[0;34m)\u001b[0m\u001b[0;34m\u001b[0m\u001b[0;34m\u001b[0m\u001b[0m\n\u001b[0m\u001b[1;32m    857\u001b[0m     \u001b[0;32mreturn\u001b[0m \u001b[0mself\u001b[0m\u001b[0;34m.\u001b[0m\u001b[0mpostproc\u001b[0m\u001b[0;34m(\u001b[0m\u001b[0mresp\u001b[0m\u001b[0;34m,\u001b[0m \u001b[0mcontent\u001b[0m\u001b[0;34m)\u001b[0m\u001b[0;34m\u001b[0m\u001b[0;34m\u001b[0m\u001b[0m\n\u001b[1;32m    858\u001b[0m \u001b[0;34m\u001b[0m\u001b[0m\n",
      "\u001b[0;31mHttpError\u001b[0m: <HttpError 400 when requesting https://www.googleapis.com/drive/v3/files/1mcq90dK81WKiwgk9kczRyCccb6VO2H11kT2d5RoS8iQ/watch?alt=json returned \"entity.resource\">"
     ]
    }
   ],
   "source": [
    "SCOPES = ['https://www.googleapis.com/auth/drive.file']\n",
    "service = build('drive', 'v3', credentials=creds)\n",
    "response = service.files().watch(fileId='1mcq90dK81WKiwgk9kczRyCccb6VO2H11kT2d5RoS8iQ'\n",
    "                                ).execute()\n"
   ]
  },
  {
   "cell_type": "code",
   "execution_count": 85,
   "metadata": {},
   "outputs": [],
   "source": [
    "def subscribe_changes(service):\n",
    "    channel_id = str(uuid.uuid4())\n",
    "    body = {\n",
    "        \"id\": channel_id,\n",
    "        \"type\": \"web_hook\",\n",
    "        \"address\": 'https://us-central1-data-team-231118.cloudfunctions.net/gsuite_meta/'\n",
    "    }\n",
    "    response = service.changes().watch(body=body, pageToken = '760').execute()\n",
    "    ts = response['expiration']\n",
    "\n",
    "    return channel_id"
   ]
  },
  {
   "cell_type": "code",
   "execution_count": 86,
   "metadata": {},
   "outputs": [
    {
     "data": {
      "text/plain": [
       "'a6ae4ef3-33e9-4351-b730-33cf4b393a5d'"
      ]
     },
     "execution_count": 86,
     "metadata": {},
     "output_type": "execute_result"
    }
   ],
   "source": [
    "# def main():\n",
    "# creds = auth()\n",
    "service = build('drive', 'v3', credentials=creds)\n",
    "subscribe_changes(service)"
   ]
  },
  {
   "cell_type": "code",
   "execution_count": 107,
   "metadata": {},
   "outputs": [],
   "source": [
    "import uuid\n",
    "channel_id = str(uuid.uuid4())\n",
    "body = {\n",
    "    \"id\": channel_id,\n",
    "    \"type\": \"web_hook\",\n",
    "    \"address\": 'https://us-central1-data-team-231118.cloudfunctions.net/gsuite_meta/'\n",
    "}\n",
    "response = service.changes().watch(body=body, pageToken = '764').execute()\n"
   ]
  },
  {
   "cell_type": "code",
   "execution_count": 108,
   "metadata": {},
   "outputs": [
    {
     "data": {
      "text/plain": [
       "{'kind': 'api#channel',\n",
       " 'id': '48f7d25b-d045-4028-aea1-df4b08f3b205',\n",
       " 'resourceId': '-jb7huWI9Us9WRUQ8vpBCNW9zSM',\n",
       " 'resourceUri': 'https://www.googleapis.com/drive/v3/changes?alt=json&includeCorpusRemovals=false&includeItemsFromAllDrives=false&includeRemoved=true&includeTeamDriveItems=false&pageSize=100&pageToken=764&restrictToMyDrive=false&spaces=drive&supportsAllDrives=false&supportsTeamDrives=false&alt=json',\n",
       " 'expiration': '1569995792000'}"
      ]
     },
     "execution_count": 108,
     "metadata": {},
     "output_type": "execute_result"
    }
   ],
   "source": [
    "response"
   ]
  },
  {
   "cell_type": "code",
   "execution_count": null,
   "metadata": {},
   "outputs": [],
   "source": []
  }
 ],
 "metadata": {
  "kernelspec": {
   "display_name": "Python 3",
   "language": "python",
   "name": "python3"
  },
  "language_info": {
   "codemirror_mode": {
    "name": "ipython",
    "version": 3
   },
   "file_extension": ".py",
   "mimetype": "text/x-python",
   "name": "python",
   "nbconvert_exporter": "python",
   "pygments_lexer": "ipython3",
   "version": "3.7.4"
  }
 },
 "nbformat": 4,
 "nbformat_minor": 2
}

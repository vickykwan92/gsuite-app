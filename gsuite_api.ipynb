{
 "cells": [
  {
   "cell_type": "markdown",
   "metadata": {},
   "source": [
    "deleted service account:\n",
    "https://developers.google.com/identity/protocols/OAuth2ServiceAccount#delegatingauthority"
   ]
  },
  {
   "cell_type": "markdown",
   "metadata": {},
   "source": [
    "# read sheet rows"
   ]
  },
  {
   "cell_type": "code",
   "execution_count": null,
   "metadata": {},
   "outputs": [],
   "source": [
    "from __future__ import print_function\n",
    "import pickle\n",
    "import os.path\n",
    "from googleapiclient.discovery import build\n",
    "from google_auth_oauthlib.flow import InstalledAppFlow\n",
    "from google.auth.transport.requests import Request\n"
   ]
  },
  {
   "cell_type": "code",
   "execution_count": null,
   "metadata": {},
   "outputs": [],
   "source": [
    "# If modifying these scopes, delete the file token.pickle.\n",
    "SCOPES = ['https://www.googleapis.com/auth/spreadsheets.readonly']\n"
   ]
  },
  {
   "cell_type": "code",
   "execution_count": null,
   "metadata": {},
   "outputs": [],
   "source": [
    "# The ID and range of a sample spreadsheet.\n",
    "SPREADSHEET_ID = '1mcq90dK81WKiwgk9kczRyCccb6VO2H11kT2d5RoS8iQ'\n",
    "RANGE_NAME = 'opportunities_looker!A1:E'\n"
   ]
  },
  {
   "cell_type": "code",
   "execution_count": null,
   "metadata": {},
   "outputs": [],
   "source": [
    "\"\"\"Shows basic usage of the Sheets API.\n",
    "Prints values from a sample spreadsheet.\n",
    "\"\"\"\n",
    "creds = None\n",
    "# The file token.pickle stores the user's access and refresh tokens, and is\n",
    "# created automatically when the authorization flow completes for the first\n",
    "# time.\n",
    "if os.path.exists('token.pickle'):\n",
    "    with open('token.pickle', 'rb') as token:\n",
    "        creds = pickle.load(token)\n",
    "# If there are no (valid) credentials available, let the user log in.\n",
    "if not creds or not creds.valid:\n",
    "    if creds and creds.expired and creds.refresh_token:\n",
    "        creds.refresh(Request())\n",
    "    else:\n",
    "        flow = InstalledAppFlow.from_client_secrets_file(\n",
    "            'credentials.json', SCOPES)\n",
    "        creds = flow.run_local_server(port=0)\n",
    "    # Save the credentials for the next run\n",
    "    with open('token.pickle', 'wb') as token:\n",
    "        pickle.dump(creds, token)\n",
    "\n",
    "service = build('sheets', 'v4', credentials=creds)\n",
    "\n"
   ]
  },
  {
   "cell_type": "code",
   "execution_count": null,
   "metadata": {},
   "outputs": [],
   "source": [
    "# Call the Sheets API\n",
    "sheet = service.spreadsheets()\n",
    "result = sheet.values().get(spreadsheetId=SPREADSHEET_ID,\n",
    "                            range=RANGE_NAME).execute()\n",
    "values = result.get('values', [])\n"
   ]
  },
  {
   "cell_type": "code",
   "execution_count": null,
   "metadata": {},
   "outputs": [],
   "source": [
    "sheet_result = sheet.get(spreadsheetId=SPREADSHEET_ID).execute()"
   ]
  },
  {
   "cell_type": "code",
   "execution_count": null,
   "metadata": {},
   "outputs": [],
   "source": [
    "sheet_result"
   ]
  },
  {
   "cell_type": "code",
   "execution_count": null,
   "metadata": {},
   "outputs": [],
   "source": [
    "if not values:\n",
    "    print('No data found.')\n",
    "else:\n",
    "    print(values)\n"
   ]
  },
  {
   "cell_type": "markdown",
   "metadata": {},
   "source": [
    "# change logs for drive"
   ]
  },
  {
   "cell_type": "code",
   "execution_count": 1,
   "metadata": {},
   "outputs": [],
   "source": [
    "from __future__ import print_function\n",
    "import pickle\n",
    "import os.path\n",
    "from googleapiclient.discovery import build\n",
    "from google_auth_oauthlib.flow import InstalledAppFlow\n",
    "from google.auth.transport.requests import Request\n",
    "import uuid\n",
    "import requests\n",
    "# If modifying these scopes, delete the file token.pickle.\n",
    "# SCOPES = ['https://www.googleapis.com/auth/drive.metadata.readonly']\n",
    "SCOPES = ['https://www.googleapis.com/auth/drive.file']\n"
   ]
  },
  {
   "cell_type": "code",
   "execution_count": 2,
   "metadata": {},
   "outputs": [],
   "source": [
    "creds = None\n",
    "# The file token.pickle stores the user's access and refresh tokens, and is\n",
    "# created automatically when the authorization flow completes for the first\n",
    "# time.\n",
    "if os.path.exists('token.pickle'):\n",
    "    with open('token.pickle', 'rb') as token:\n",
    "        creds = pickle.load(token)\n",
    "# If there are no (valid) credentials available, let the user log in.\n",
    "if not creds or not creds.valid:\n",
    "    if creds and creds.expired and creds.refresh_token:\n",
    "        creds.refresh(Request())\n",
    "    else:\n",
    "        flow = InstalledAppFlow.from_client_secrets_file(\n",
    "            'gsuite_svc_acc.json', SCOPES)\n",
    "        creds = flow.run_local_server(port=0)\n",
    "    # Save the credentials for the next run\n",
    "    with open('token.pickle', 'wb') as token:\n",
    "        pickle.dump(creds, token)\n",
    "\n",
    "service = build('drive', 'v3', credentials=creds)\n",
    "        "
   ]
  },
  {
   "cell_type": "code",
   "execution_count": 3,
   "metadata": {},
   "outputs": [
    {
     "data": {
      "text/plain": [
       "<google.oauth2.credentials.Credentials at 0x10992d890>"
      ]
     },
     "execution_count": 3,
     "metadata": {},
     "output_type": "execute_result"
    }
   ],
   "source": [
    "creds"
   ]
  },
  {
   "cell_type": "code",
   "execution_count": 4,
   "metadata": {},
   "outputs": [
    {
     "name": "stdout",
     "output_type": "stream",
     "text": [
      "Files:\n",
      "BDR Meeting KPIs and Opportunity Targets (1mcq90dK81WKiwgk9kczRyCccb6VO2H11kT2d5RoS8iQ)\n",
      "¡FEED THE PEOPLE! (Sign up Sheet) (1Nq-EMbrg6SAq97Al6nsAA_CE8k_cM-_q9HO9hRQszj4)\n",
      "Looker auditing (11JDOclNoqHo7z81_qIeTrrgBJl2Z8O0TWTdmWbxJ8kA)\n",
      "Looker Join Sessions (1NvaLv9RFxratZZpQu_KJForD_-wdQV3YP1rSpyNOa-s)\n",
      "Global Monthly BDR Meetings-2019-10-09-16-27-38.xlsx (1cRUu2WVhLD8f4EjSR_DyM_0M14QpGXBa)\n",
      "report1570654148454.csv (1Tkt93Nari8Si2f8Ddrtgt7ggM2wXiQsl)\n",
      "snowflake_salesforce sf__events 2019-10-09T1350.csv (1Ur1mmAz2CJQHfPNjKtDsOBb44BCNzNXU)\n",
      "report1570654148454.csv (11i3mEExu1Bd_BmGq8-kDTpOMDPbcAaXU)\n",
      "report1570570732025 (1B8oBylrl2jWUnnzYtaxGNhmhMcuxxv0Wky1mGR9Qpn8)\n",
      "report1570570732025 (1jNA8ak7kLUBaQA_5C8g-4LDF54qThFLNfkJsCdM_3UM)\n",
      "report1570570732025.csv (1VwxDxrvJS0u92vJQzbDImN9QQS4PfO-I)\n",
      "result.csv (1vA4j1_6aRfE218nY39zwxUXsOVu3R2qL)\n",
      "Data Culture Demystified: Strategies for Cultivating Data-Driven Decisions (17XMPkFPuSELrhhtIk2BUD9OvHijT5o6sf5uP6WRnsZQ)\n",
      "Finance Metrics (1yRrgnEdujAsSjIDQEYIVmAHluvYVNBtw9nucoLJ7o9w)\n",
      "results-20190924-142514 (1hnc47HVamnC-g0b44ouZJBZY4oQaOej23AOvAdviD_g)\n",
      "Docker Cybersecurity Mtg Notes - Rolling (1FqM1NkKiJQqUwyEW5pIMqIZZxMgi6tYRGn8VxnE0BEM)\n",
      "DATA- Reported by me (JIRA) (1LStdLErYKgtF0RVT90NERiQ3FtVIYg7jAPigAYlxImo)\n",
      "DATA- Reported by me (JIRA) (1ML1HKzR0bbfrmW6Shby56kZEVBwo1GhT4XHcuBdufuc)\n",
      "DATA- Reported by me (JIRA).xlsx (0B-JSi8y-E8_fUXBWWVJvOTFpcG5aTldWUElhQktEaHdJdUFj)\n",
      "Data Team Goals 2019Q3 (18kC0gA67mu4mYLU6oI7zuIIB3VQWm_xqJ1gxuhtCTqk)\n",
      "Modernize Brownfield Playbook (1rBssCrTg3iOoneKuOBop9oI-jQ-Npj7Ipt-p_MU-P2A)\n",
      "2019-09-12 - ProdCore - Tanzu VMW competitive updates (1YGAtO1aipIsgxv1P_eVTpQtVIsIprUhhM9u3aMKb2l8)\n",
      "IMG_6581.jpg (1816n0ySPYOYc5Ww-DEBP5P_rVm3v_4A_)\n",
      "Cat (108F_1EyYDUPHhcyU1cy9W5WrJbgXPPDW)\n",
      "IMG_7945.m4v (1h9y3nb-bMiyKvs197Y341s3mbCyZy6tp)\n",
      "Digital Tracking Plan (1HCXywfXcWpse7tEJ1Iulg8sYg5qcNkAolUJFD6RGhlo)\n",
      "Init Tracker - Very basic initial requirements (1IxJNcqv8OCz09lJtsfSrxNV48XNHlCi5k2b7rN3z8x8)\n",
      "2019-08-27 Data Team: Product Telemetry (1nbfgTf2FXiGbxihLWU1FlYr66kl8kn4WSHIfQ0UCFkw)\n",
      "Looker Content Validator Tiles (1ehd8YODm-dbuifJRL528sLu_Y4KnqhnUvWZbx6zzAFQ)\n",
      "Telemetry in Docker Enterprise (14B3muXieVz4gt2lXcrxHHvoFcT09DpZjGT5DF2dfW7Q)\n",
      "DataEngineering.svg (1R_svMipyENVtgdhD0xGlwJ-yyvcXoLl-)\n",
      "Buildx + App discussion (1a1nMpJg72fNz6csTJmIwM_isJheVJPptrIGAuiIx-U4)\n",
      "Docker Security Incident Management Plan (1d_obkDyMglgb5ZFQL0uUrJo89N2F_k5iq4F1BN1VuB0)\n",
      "Hub - DockerNext Data Overview [DRAFT] (1VmJ8bsMJA3718JAfSxXpPsKYV7APMKMVx3LFNjXq1CU)\n",
      "basic_data_flow_redshift_looker.html (1_RRxeqVJqv2cCT354ASjSA6MiZ_DomzC)\n",
      "alternative_hydra_flow_suggestion.html (1ccV-cZN71rfxMZyW2zq_gw4JK8MSZPTk)\n",
      "shared_data_team (1Whroa5UPiM6B89qHWUJ1KpENBfm2doAs)\n",
      "planning_docs (1r0__UMAKZfbL4zBbuVC6Gx0eGD0BuHd_)\n",
      "diagrams (1leM0Hgb-X7UOWsDcCIKElYSX77oScfWe)\n",
      "requirements_specs (14S95msGsfFUsTbK60NysFDaBoOTpzWR0)\n",
      "conference_decks (1lT-sx2CQTTavfSz3hRyTd3TmERiVhYEk)\n",
      "internal_slide_decks (1zughMFftGCQQv4pazziYurOTcxvc6ra4)\n",
      "Docker Benefits Guide 2019_Sept.pdf (1iHLUQEeTm4Ign32vul3qAjQijtFgdT5j)\n",
      "Docker Sept 2019 OE Presentation.pdf (1H2yIyJCnXrSPetKjfdKfsVm_vQ-tNntu)\n",
      "Getting started (0B-JSi8y-E8_fc3RhcnRlcl9maWxlX2Rhc2hlclYw)\n",
      "Tech Diversity (1jzcpIoVkoSFdeQ5PbP3ge6TF8_Rp87kcFO1mypQdqDs)\n",
      "Looker JOIN 2019 Submission (1QhxBIXRlfZ9xjwtJjisi2zNCUsWONOyL4ODXQAy3ZOE)\n",
      " Lead Management Process (15rzRjdMM6cDOM1Drnm4PQbx6v1bmR4h6gX1oY7FOCR8)\n",
      "Executive Staff Metrics_February 2019 (1jEEn23iPQueXjqd2rakXdsTvsfk5sS_co9Hclu4vprY)\n",
      "Data Tells Us You Will Love This Talk (10JeHH4SJBiMSSQLGY3dia1SjZMobNuOKU40GAHZsn_w)\n",
      "dockercon_dataarch.drawio (1RBop0lhqH8UoO5Sz4rjfSUr2wgFY93hW)\n",
      "Untitled Diagram.drawio (1p9pHq1gu49XIFXhxE2wo3fa5QgyC-QKw)\n",
      "Engineering Project Inventory Master (1D-ZDWHMfiGL6NfK2vBpjcevz3X4G2lEmYC383aFbyYY)\n",
      "Docker Hub ML Project (1m9Y9-QK3Ahz6ITEtm4ZGS09GDDUS552vUnP3qHPbCg0)\n",
      "IT Data Engineering: Cultivating Business Intelligence (15DeEUDgg4rFeUvPjzJuWAh1KESD3bnAwWDU2vYG0kgg)\n",
      "DockerCon Ideas Pool  (1zeqKPgnKVV2AOdp9EAT5uJE0qClQygQR7OA_4blk_20)\n",
      "recruiting.html (1dCdm_wj2Oly7LbsrAkqdCiBnP9gi8BgF)\n",
      "Docker New Hire Scavenger Hunt (1P3jErv4njhhHc0l7Aw47w43UPjThEjn2rk0Rd86H3_4)\n",
      "Recruiting Dashboard (1YYyWy0G3BmqHVnLjWtW-d70qHm32bmZowcSyrpKa-sA)\n",
      "Copy of Hackweek 2018 - Docker Hub Image Classification (1bmHpVvbWQLoLkN6RA8XbgQk9Skh8oHZ1CtNhxd4y_UU)\n",
      "ML Hub Classification (1z_wWJGxzklDzty8qPduGW3gfTDM4PAAHzOUjzcfVy5U)\n",
      "Lead Lifecycle Audit (140070irxC3i_ImV7qPGJ_nGd20738uzLt-8FoCPBjw8)\n",
      "DockerCon EU CFP (10wl6SOfR4kMOr4EtrHSvr3QiLVVIHCa94vBwhptcXtc)\n",
      "Voice of the Customer (VoC) (1rseZNxj5tpbem2P_lyiog6efNDXJgFc17aNCprwcSss)\n",
      "QBR Q3'19 (16IZB4zTnXDHHYeU8Bm3ONbvdQqNCG5AMnczCOozjZuI)\n",
      "Data Analytics 101 (1arM64HnVD5YXD1qgHQUpsGZl8Pl3TEytDwE0h-EP6o4)\n",
      "HR Headcount (1yZT_xCmF9zH8yu7TIs_VFNk47-tY0hjPQ7uM3fmZNhI)\n",
      "VoC All Hands Deck (1L8Mtb7fpvdqI7mO6n4h4_GkOc_-vP7Kgsgw-NzFZ-mA)\n",
      "Growth VoC Slides (1AFBKTnyC0MdsoLk50FT3hzVx3QWQJQv4-LCKntTqXvY)\n",
      "SFDC-GH (1ln0g2BYaGduFTC2CdCRebBswYtQy90c1ADezFjhRMx4)\n",
      "Untitled Diagram.html (1h2wx3UNmQaypsndTBU5hOBnpP-0KnP8m)\n",
      "HR Dashboard (1KfpMdMiW7TMz_3X4vji1ALUEgsgWKbpsKNrwo1l-TZA)\n",
      "sfdc-github-comments.html (1RuinkWXj54FQVjgvDu5RK6KpUCAh4ntZ)\n",
      "Migrating workloads to Docker EE 2.0 using Kubernetes & Helm (1bPyrwO29qNkX3wNwEHenNGLJQs75oOgf70vYgXjpcHA)\n",
      "06-20-2018.mp4 (1c4Kw6OrlOhpjNBSWPpk8udnbDPOGjYxp)\n",
      "Employee Diversity in tech  (1e5jevLJTK9Aayob2msk4Ss9qIMCqfris4m_m0kXO-7s)\n",
      "Data Analytics Internship (1tlPpubcZqp_0qNOOb4b12Wj3TXNugp7uiDoLGNEYsyQ)\n",
      "customer_events.html (1f_24VRQtjr0XRiwzwEHRIU27nht0wq7f)\n",
      "VoC CrossRefs (14DHYUOSmZk1Qg9i1Abyfs0Dww8f9p1xx9l3ZlC-AluU)\n",
      "Marketing Dashboard Requirements (14Lisn8E-CrBXUfDS0mHBGkmFglaAnFg-URw54Vago0I)\n",
      "Hack Week (1ncv7-Xjh4kvgZ4ouUijpVLc6Iub-rRTcBPfToR3pqCo)\n",
      "Brain Dump (1O7E7Q7XfmPXsDQvq63FeKyBMd0qCSziQLrGD6JnH-8M)\n",
      "EDB_Chart_Descriptions (16xpqCPlYEXGEaFT3jfabhwJ16ItS6VkrYS2IqGSHyYE)\n",
      "Untitled Diagram.html (1JJd56CNXeashca_DYr34nSqQW29Jc-tI)\n",
      "stakeholders.html (1M4gTaPL4LoRvVgbrVXpKI67C8fPUoecv)\n",
      "EDB_RELEASE_APRIL_2018 (1ZwuLGHvDmmGAyfzuWXwwlM16AKP-QJ-HXhQU0MG6wo0)\n",
      "EDB_DASHBOARD_TILES (1Eq6u6n6cRy4xjPMFahuF-ElNunHb-v2ctr_U2wDoPrk)\n",
      "ALL_DB_SCREENSHOTS (1lB4O1kRGBf7xZP7q0B9V-Yax9dnoQJbZRWmKTMA9l58)\n",
      "EDB_RELEASE_MARCH_2018 (1uyBV2I64OowXWy_HxH_gfQp7KPzTVhtSQATZPgV_X_A)\n",
      "[DRAFT] Quality/Engineering Issue Metrics (1citBHUKSIpZRjOdyOuQCpARQG3Be7bd_ZGiwEPu-pCo)\n",
      "Github Analytics Requirements (1z1uVWNWOpGQuk5FuLpi-X5umIR9lWZkc6ZBE_RyX4r8)\n",
      "Slaying Hydra  (1AvGMjdpjkxjUVJvZMZAhDihE-eaVBDvtdTL3FwMcmpk)\n",
      "Untitled presentation (1ijU-aC--GSHCu7J01_O1cQ5jTmkWKpFjhhqgWlDMDDI)\n",
      "Showing YY Compare in Looker (1sw1LvvUeDW-qwcXQfXlZRvX-ottMZfnmfQ4iuJKGGq8)\n",
      "Mock Looker Dashboards (1zn-SBBbHfGOjZHM8VBHxkzniJL3vDT_SGSGp1Z_5ezQ)\n",
      "Mapping with Looker (14MvxFUI8YU0v29ZO5Wbg9XAYW46PhZbkBiwP5-iGwM8)\n",
      "5 Days In Maui Sample Itinerary (1kQtaLswplx1uIbeoMQL1X2F__bw)\n",
      "platform-paradoxes-CACM-p27-zeng.pdf (0B3O0WTQS9ga6Y2g2SjZ2RDBtOS1TZmR2b01vWkcyWEhsNW44)\n"
     ]
    }
   ],
   "source": [
    "# Call the Drive v3 API\n",
    "results = service.files().list(\n",
    "    pageSize=100, fields=\"nextPageToken, files(id, name)\").execute()\n",
    "items = results.get('files', [])\n",
    "\n",
    "if not items:\n",
    "    print('No files found.')\n",
    "else:\n",
    "    print('Files:')\n",
    "    for item in items:\n",
    "#         if item['name'] in ('BDR Meeting KPIs and Opportunity Targets', 'Finance Metrics'):\n",
    "        print(u'{0} ({1})'.format(item['name'], item['id']))\n",
    "        "
   ]
  },
  {
   "cell_type": "code",
   "execution_count": 5,
   "metadata": {},
   "outputs": [],
   "source": [
    "response = service.changes().getStartPageToken().execute()"
   ]
  },
  {
   "cell_type": "code",
   "execution_count": 6,
   "metadata": {},
   "outputs": [
    {
     "data": {
      "text/plain": [
       "'959'"
      ]
     },
     "execution_count": 6,
     "metadata": {},
     "output_type": "execute_result"
    }
   ],
   "source": [
    "response.get('startPageToken')"
   ]
  },
  {
   "cell_type": "code",
   "execution_count": 7,
   "metadata": {},
   "outputs": [
    {
     "name": "stdout",
     "output_type": "stream",
     "text": [
      "Change found for file: 1Nq-EMbrg6SAq97Al6nsAA_CE8k_cM-_q9HO9hRQszj4\n",
      "Change found for file: 1e5jevLJTK9Aayob2msk4Ss9qIMCqfris4m_m0kXO-7s\n",
      "Change found for file: 14MvxFUI8YU0v29ZO5Wbg9XAYW46PhZbkBiwP5-iGwM8\n",
      "Change found for file: 1mcq90dK81WKiwgk9kczRyCccb6VO2H11kT2d5RoS8iQ\n"
     ]
    }
   ],
   "source": [
    "page_token = '940'\n",
    "while page_token is not None:\n",
    "    response = service.changes().list(pageToken=page_token,\n",
    "                                            spaces='drive').execute()\n",
    "    for change in response.get('changes'):\n",
    "        # Process change\n",
    "        print('Change found for file: %s' % change.get('fileId'))\n",
    "    if 'newStartPageToken' in response:\n",
    "        # Last page, save this token for the next polling interval\n",
    "        saved_start_page_token = response.get('newStartPageToken')\n",
    "    page_token = response.get('nextPageToken')"
   ]
  },
  {
   "cell_type": "code",
   "execution_count": 8,
   "metadata": {},
   "outputs": [
    {
     "data": {
      "text/plain": [
       "{'kind': 'drive#changeList',\n",
       " 'newStartPageToken': '959',\n",
       " 'changes': [{'kind': 'drive#change',\n",
       "   'type': 'file',\n",
       "   'changeType': 'file',\n",
       "   'time': '2019-10-14T16:41:59.638Z',\n",
       "   'removed': False,\n",
       "   'fileId': '1Nq-EMbrg6SAq97Al6nsAA_CE8k_cM-_q9HO9hRQszj4',\n",
       "   'file': {'kind': 'drive#file',\n",
       "    'id': '1Nq-EMbrg6SAq97Al6nsAA_CE8k_cM-_q9HO9hRQszj4',\n",
       "    'name': '¡FEED THE PEOPLE! (Sign up Sheet)',\n",
       "    'mimeType': 'application/vnd.google-apps.spreadsheet'}},\n",
       "  {'kind': 'drive#change',\n",
       "   'type': 'file',\n",
       "   'changeType': 'file',\n",
       "   'time': '2019-10-14T21:07:37.145Z',\n",
       "   'removed': False,\n",
       "   'fileId': '1e5jevLJTK9Aayob2msk4Ss9qIMCqfris4m_m0kXO-7s',\n",
       "   'file': {'kind': 'drive#file',\n",
       "    'id': '1e5jevLJTK9Aayob2msk4Ss9qIMCqfris4m_m0kXO-7s',\n",
       "    'name': 'Employee Diversity in tech ',\n",
       "    'mimeType': 'application/vnd.google-apps.spreadsheet'}},\n",
       "  {'kind': 'drive#change',\n",
       "   'type': 'file',\n",
       "   'changeType': 'file',\n",
       "   'time': '2019-10-14T21:31:49.554Z',\n",
       "   'removed': False,\n",
       "   'fileId': '14MvxFUI8YU0v29ZO5Wbg9XAYW46PhZbkBiwP5-iGwM8',\n",
       "   'file': {'kind': 'drive#file',\n",
       "    'id': '14MvxFUI8YU0v29ZO5Wbg9XAYW46PhZbkBiwP5-iGwM8',\n",
       "    'name': 'Mapping with Looker',\n",
       "    'mimeType': 'application/vnd.google-apps.presentation'}},\n",
       "  {'kind': 'drive#change',\n",
       "   'type': 'file',\n",
       "   'changeType': 'file',\n",
       "   'time': '2019-10-14T21:39:44.753Z',\n",
       "   'removed': False,\n",
       "   'fileId': '1mcq90dK81WKiwgk9kczRyCccb6VO2H11kT2d5RoS8iQ',\n",
       "   'file': {'kind': 'drive#file',\n",
       "    'id': '1mcq90dK81WKiwgk9kczRyCccb6VO2H11kT2d5RoS8iQ',\n",
       "    'name': 'BDR Meeting KPIs and Opportunity Targets',\n",
       "    'mimeType': 'application/vnd.google-apps.spreadsheet'}}]}"
      ]
     },
     "execution_count": 8,
     "metadata": {},
     "output_type": "execute_result"
    }
   ],
   "source": [
    "response"
   ]
  },
  {
   "cell_type": "markdown",
   "metadata": {},
   "source": [
    "# change list with pageToken"
   ]
  },
  {
   "cell_type": "markdown",
   "metadata": {},
   "source": [
    "https://developers.google.com/drive/api/v3/push"
   ]
  },
  {
   "cell_type": "code",
   "execution_count": 9,
   "metadata": {},
   "outputs": [],
   "source": [
    "import json"
   ]
  },
  {
   "cell_type": "code",
   "execution_count": 10,
   "metadata": {},
   "outputs": [],
   "source": [
    "channel_id = str(uuid.uuid4())\n",
    "service = build('drive', 'v3', credentials=creds)\n",
    "body = {\n",
    "    \"id\": channel_id,\n",
    "    \"type\": \"web_hook\",\n",
    "    \"address\": \"https://us-central1-data-team-231118.cloudfunctions.net/gsuite_meta/\"\n",
    "}\n",
    "response = service.changes().list(pageToken = '747').execute()\n",
    "# response = requests.post(url=f'https://www.googleapis.com/drive/v3/changes?pageToken=747', \n",
    "#                   data=json.dumps(body)) \n"
   ]
  },
  {
   "cell_type": "code",
   "execution_count": 11,
   "metadata": {
    "scrolled": true
   },
   "outputs": [
    {
     "data": {
      "text/plain": [
       "'{\"kind\": \"drive#changeList\", \"newStartPageToken\": \"959\", \"changes\": [{\"kind\": \"drive#change\", \"type\": \"file\", \"changeType\": \"file\", \"time\": \"2019-10-02T02:53:57.322Z\", \"removed\": false, \"fileId\": \"108F_1EyYDUPHhcyU1cy9W5WrJbgXPPDW\", \"file\": {\"kind\": \"drive#file\", \"id\": \"108F_1EyYDUPHhcyU1cy9W5WrJbgXPPDW\", \"name\": \"Cat\", \"mimeType\": \"application/vnd.google-apps.folder\"}}, {\"kind\": \"drive#change\", \"type\": \"file\", \"changeType\": \"file\", \"time\": \"2019-10-02T03:53:48.002Z\", \"removed\": false, \"fileId\": \"18kC0gA67mu4mYLU6oI7zuIIB3VQWm_xqJ1gxuhtCTqk\", \"file\": {\"kind\": \"drive#file\", \"id\": \"18kC0gA67mu4mYLU6oI7zuIIB3VQWm_xqJ1gxuhtCTqk\", \"name\": \"Data Team Goals 2019Q3\", \"mimeType\": \"application/vnd.google-apps.spreadsheet\"}}, {\"kind\": \"drive#change\", \"type\": \"file\", \"changeType\": \"file\", \"time\": \"2019-10-03T23:13:39.550Z\", \"removed\": false, \"fileId\": \"1yRrgnEdujAsSjIDQEYIVmAHluvYVNBtw9nucoLJ7o9w\", \"file\": {\"kind\": \"drive#file\", \"id\": \"1yRrgnEdujAsSjIDQEYIVmAHluvYVNBtw9nucoLJ7o9w\", \"name\": \"Finance Metrics\", \"mimeType\": \"application/vnd.google-apps.spreadsheet\"}}, {\"kind\": \"drive#change\", \"type\": \"file\", \"changeType\": \"file\", \"time\": \"2019-10-05T23:53:53.178Z\", \"removed\": false, \"fileId\": \"17XMPkFPuSELrhhtIk2BUD9OvHijT5o6sf5uP6WRnsZQ\", \"file\": {\"kind\": \"drive#file\", \"id\": \"17XMPkFPuSELrhhtIk2BUD9OvHijT5o6sf5uP6WRnsZQ\", \"name\": \"Data Culture Demystified: Strategies for Cultivating Data-Driven Decisions\", \"mimeType\": \"application/vnd.google-apps.presentation\"}}, {\"kind\": \"drive#change\", \"type\": \"file\", \"changeType\": \"file\", \"time\": \"2019-10-08T01:57:38.898Z\", \"removed\": false, \"fileId\": \"1HCXywfXcWpse7tEJ1Iulg8sYg5qcNkAolUJFD6RGhlo\", \"file\": {\"kind\": \"drive#file\", \"id\": \"1HCXywfXcWpse7tEJ1Iulg8sYg5qcNkAolUJFD6RGhlo\", \"name\": \"Digital Tracking Plan\", \"mimeType\": \"application/vnd.google-apps.spreadsheet\"}}, {\"kind\": \"drive#change\", \"type\": \"file\", \"changeType\": \"file\", \"time\": \"2019-10-08T01:58:44.301Z\", \"removed\": false, \"fileId\": \"14B3muXieVz4gt2lXcrxHHvoFcT09DpZjGT5DF2dfW7Q\", \"file\": {\"kind\": \"drive#file\", \"id\": \"14B3muXieVz4gt2lXcrxHHvoFcT09DpZjGT5DF2dfW7Q\", \"name\": \"Telemetry in Docker Enterprise\", \"mimeType\": \"application/vnd.google-apps.document\"}}, {\"kind\": \"drive#change\", \"type\": \"file\", \"changeType\": \"file\", \"time\": \"2019-10-08T21:38:12.410Z\", \"removed\": false, \"fileId\": \"1vA4j1_6aRfE218nY39zwxUXsOVu3R2qL\", \"file\": {\"kind\": \"drive#file\", \"id\": \"1vA4j1_6aRfE218nY39zwxUXsOVu3R2qL\", \"name\": \"result.csv\", \"mimeType\": \"text/csv\"}}, {\"kind\": \"drive#change\", \"type\": \"file\", \"changeType\": \"file\", \"time\": \"2019-10-08T21:39:07.557Z\", \"removed\": false, \"fileId\": \"1VwxDxrvJS0u92vJQzbDImN9QQS4PfO-I\", \"file\": {\"kind\": \"drive#file\", \"id\": \"1VwxDxrvJS0u92vJQzbDImN9QQS4PfO-I\", \"name\": \"report1570570732025.csv\", \"mimeType\": \"text/csv\"}}, {\"kind\": \"drive#change\", \"type\": \"file\", \"changeType\": \"file\", \"time\": \"2019-10-08T21:39:12.667Z\", \"removed\": false, \"fileId\": \"1jNA8ak7kLUBaQA_5C8g-4LDF54qThFLNfkJsCdM_3UM\", \"file\": {\"kind\": \"drive#file\", \"id\": \"1jNA8ak7kLUBaQA_5C8g-4LDF54qThFLNfkJsCdM_3UM\", \"name\": \"report1570570732025\", \"mimeType\": \"application/vnd.google-apps.spreadsheet\"}}, {\"kind\": \"drive#change\", \"type\": \"file\", \"changeType\": \"file\", \"time\": \"2019-10-08T21:42:17.979Z\", \"removed\": false, \"fileId\": \"1B8oBylrl2jWUnnzYtaxGNhmhMcuxxv0Wky1mGR9Qpn8\", \"file\": {\"kind\": \"drive#file\", \"id\": \"1B8oBylrl2jWUnnzYtaxGNhmhMcuxxv0Wky1mGR9Qpn8\", \"name\": \"report1570570732025\", \"mimeType\": \"application/vnd.google-apps.spreadsheet\"}}, {\"kind\": \"drive#change\", \"type\": \"file\", \"changeType\": \"file\", \"time\": \"2019-10-09T20:49:35.363Z\", \"removed\": false, \"fileId\": \"11i3mEExu1Bd_BmGq8-kDTpOMDPbcAaXU\", \"file\": {\"kind\": \"drive#file\", \"id\": \"11i3mEExu1Bd_BmGq8-kDTpOMDPbcAaXU\", \"name\": \"report1570654148454.csv\", \"mimeType\": \"text/csv\"}}, {\"kind\": \"drive#change\", \"type\": \"file\", \"changeType\": \"file\", \"time\": \"2019-10-09T20:51:40.902Z\", \"removed\": false, \"fileId\": \"1Ur1mmAz2CJQHfPNjKtDsOBb44BCNzNXU\", \"file\": {\"kind\": \"drive#file\", \"id\": \"1Ur1mmAz2CJQHfPNjKtDsOBb44BCNzNXU\", \"name\": \"snowflake_salesforce sf__events 2019-10-09T1350.csv\", \"mimeType\": \"text/csv\"}}, {\"kind\": \"drive#change\", \"type\": \"file\", \"changeType\": \"file\", \"time\": \"2019-10-09T20:54:38.718Z\", \"removed\": false, \"fileId\": \"1Tkt93Nari8Si2f8Ddrtgt7ggM2wXiQsl\", \"file\": {\"kind\": \"drive#file\", \"id\": \"1Tkt93Nari8Si2f8Ddrtgt7ggM2wXiQsl\", \"name\": \"report1570654148454.csv\", \"mimeType\": \"text/csv\"}}, {\"kind\": \"drive#change\", \"type\": \"file\", \"changeType\": \"file\", \"time\": \"2019-10-09T23:28:19.762Z\", \"removed\": false, \"fileId\": \"1cRUu2WVhLD8f4EjSR_DyM_0M14QpGXBa\", \"file\": {\"kind\": \"drive#file\", \"id\": \"1cRUu2WVhLD8f4EjSR_DyM_0M14QpGXBa\", \"name\": \"Global Monthly BDR Meetings-2019-10-09-16-27-38.xlsx\", \"mimeType\": \"application/vnd.openxmlformats-officedocument.spreadsheetml.sheet\"}}, {\"kind\": \"drive#change\", \"type\": \"file\", \"changeType\": \"file\", \"time\": \"2019-10-10T18:54:09.326Z\", \"removed\": false, \"fileId\": \"1NvaLv9RFxratZZpQu_KJForD_-wdQV3YP1rSpyNOa-s\", \"file\": {\"kind\": \"drive#file\", \"id\": \"1NvaLv9RFxratZZpQu_KJForD_-wdQV3YP1rSpyNOa-s\", \"name\": \"Looker Join Sessions\", \"mimeType\": \"application/vnd.google-apps.spreadsheet\"}}, {\"kind\": \"drive#change\", \"type\": \"file\", \"changeType\": \"file\", \"time\": \"2019-10-11T00:03:27.291Z\", \"removed\": false, \"fileId\": \"11JDOclNoqHo7z81_qIeTrrgBJl2Z8O0TWTdmWbxJ8kA\", \"file\": {\"kind\": \"drive#file\", \"id\": \"11JDOclNoqHo7z81_qIeTrrgBJl2Z8O0TWTdmWbxJ8kA\", \"name\": \"Looker auditing\", \"mimeType\": \"application/vnd.google-apps.spreadsheet\"}}, {\"kind\": \"drive#change\", \"type\": \"file\", \"changeType\": \"file\", \"time\": \"2019-10-14T16:41:59.638Z\", \"removed\": false, \"fileId\": \"1Nq-EMbrg6SAq97Al6nsAA_CE8k_cM-_q9HO9hRQszj4\", \"file\": {\"kind\": \"drive#file\", \"id\": \"1Nq-EMbrg6SAq97Al6nsAA_CE8k_cM-_q9HO9hRQszj4\", \"name\": \"\\\\u00a1FEED THE PEOPLE! (Sign up Sheet)\", \"mimeType\": \"application/vnd.google-apps.spreadsheet\"}}, {\"kind\": \"drive#change\", \"type\": \"file\", \"changeType\": \"file\", \"time\": \"2019-10-14T21:07:37.145Z\", \"removed\": false, \"fileId\": \"1e5jevLJTK9Aayob2msk4Ss9qIMCqfris4m_m0kXO-7s\", \"file\": {\"kind\": \"drive#file\", \"id\": \"1e5jevLJTK9Aayob2msk4Ss9qIMCqfris4m_m0kXO-7s\", \"name\": \"Employee Diversity in tech \", \"mimeType\": \"application/vnd.google-apps.spreadsheet\"}}, {\"kind\": \"drive#change\", \"type\": \"file\", \"changeType\": \"file\", \"time\": \"2019-10-14T21:31:49.554Z\", \"removed\": false, \"fileId\": \"14MvxFUI8YU0v29ZO5Wbg9XAYW46PhZbkBiwP5-iGwM8\", \"file\": {\"kind\": \"drive#file\", \"id\": \"14MvxFUI8YU0v29ZO5Wbg9XAYW46PhZbkBiwP5-iGwM8\", \"name\": \"Mapping with Looker\", \"mimeType\": \"application/vnd.google-apps.presentation\"}}, {\"kind\": \"drive#change\", \"type\": \"file\", \"changeType\": \"file\", \"time\": \"2019-10-14T21:39:44.753Z\", \"removed\": false, \"fileId\": \"1mcq90dK81WKiwgk9kczRyCccb6VO2H11kT2d5RoS8iQ\", \"file\": {\"kind\": \"drive#file\", \"id\": \"1mcq90dK81WKiwgk9kczRyCccb6VO2H11kT2d5RoS8iQ\", \"name\": \"BDR Meeting KPIs and Opportunity Targets\", \"mimeType\": \"application/vnd.google-apps.spreadsheet\"}}]}'"
      ]
     },
     "execution_count": 11,
     "metadata": {},
     "output_type": "execute_result"
    }
   ],
   "source": [
    "json.dumps(response)"
   ]
  },
  {
   "cell_type": "code",
   "execution_count": 12,
   "metadata": {},
   "outputs": [],
   "source": [
    "from google.cloud import storage\n",
    "import json\n",
    "from datetime import datetime\n",
    "\n",
    "def upload_blob(bucket_name, blob_text, destination_blob_name):\n",
    "    \"\"\"Uploads a file to the bucket.\"\"\"\n",
    "    storage_client = storage.Client.from_service_account_json('gsuite_svc_acc.json')\n",
    "    bucket = storage_client.get_bucket(bucket_name)\n",
    "    blob = bucket.blob(destination_blob_name)\n",
    "    blob.upload_from_string(blob_text)\n"
   ]
  },
  {
   "cell_type": "code",
   "execution_count": 13,
   "metadata": {
    "collapsed": true
   },
   "outputs": [
    {
     "data": {
      "text/plain": [
       "{'kind': 'drive#changeList',\n",
       " 'newStartPageToken': '778',\n",
       " 'changes': [{'kind': 'drive#change',\n",
       "   'type': 'file',\n",
       "   'changeType': 'file',\n",
       "   'time': '2019-10-02T02:53:57.322Z',\n",
       "   'removed': False,\n",
       "   'fileId': '108F_1EyYDUPHhcyU1cy9W5WrJbgXPPDW',\n",
       "   'file': {'kind': 'drive#file',\n",
       "    'id': '108F_1EyYDUPHhcyU1cy9W5WrJbgXPPDW',\n",
       "    'name': 'Cat',\n",
       "    'mimeType': 'application/vnd.google-apps.folder'}},\n",
       "  {'kind': 'drive#change',\n",
       "   'type': 'file',\n",
       "   'changeType': 'file',\n",
       "   'time': '2019-10-02T03:53:48.002Z',\n",
       "   'removed': False,\n",
       "   'fileId': '18kC0gA67mu4mYLU6oI7zuIIB3VQWm_xqJ1gxuhtCTqk',\n",
       "   'file': {'kind': 'drive#file',\n",
       "    'id': '18kC0gA67mu4mYLU6oI7zuIIB3VQWm_xqJ1gxuhtCTqk',\n",
       "    'name': 'Data Team Goals 2019Q3',\n",
       "    'mimeType': 'application/vnd.google-apps.spreadsheet'}},\n",
       "  {'kind': 'drive#change',\n",
       "   'type': 'file',\n",
       "   'changeType': 'file',\n",
       "   'time': '2019-10-02T06:02:08.276Z',\n",
       "   'removed': False,\n",
       "   'fileId': '1mcq90dK81WKiwgk9kczRyCccb6VO2H11kT2d5RoS8iQ',\n",
       "   'file': {'kind': 'drive#file',\n",
       "    'id': '1mcq90dK81WKiwgk9kczRyCccb6VO2H11kT2d5RoS8iQ',\n",
       "    'name': 'BDR Meeting KPIs and Opportunity Targets',\n",
       "    'mimeType': 'application/vnd.google-apps.spreadsheet'}},\n",
       "  {'kind': 'drive#change',\n",
       "   'type': 'file',\n",
       "   'changeType': 'file',\n",
       "   'time': '2019-10-03T18:39:54.965Z',\n",
       "   'removed': False,\n",
       "   'fileId': '1yRrgnEdujAsSjIDQEYIVmAHluvYVNBtw9nucoLJ7o9w',\n",
       "   'file': {'kind': 'drive#file',\n",
       "    'id': '1yRrgnEdujAsSjIDQEYIVmAHluvYVNBtw9nucoLJ7o9w',\n",
       "    'name': 'Finance Metrics',\n",
       "    'mimeType': 'application/vnd.google-apps.spreadsheet'}}]}"
      ]
     },
     "execution_count": 13,
     "metadata": {},
     "output_type": "execute_result"
    }
   ],
   "source": [
    "response\n",
    " "
   ]
  },
  {
   "cell_type": "code",
   "execution_count": 14,
   "metadata": {},
   "outputs": [],
   "source": [
    "BUCKET_NAME = 'gsuite-drive-api'\n"
   ]
  },
  {
   "cell_type": "code",
   "execution_count": 17,
   "metadata": {},
   "outputs": [],
   "source": [
    "BLOB_NAME = datetime.now().strftime(\"%Y-%m-%dT%H:%M:%S.%f\")\n",
    "BLOB_STR = json.dumps(response)\n"
   ]
  },
  {
   "cell_type": "code",
   "execution_count": 18,
   "metadata": {},
   "outputs": [],
   "source": [
    "upload_blob(BUCKET_NAME, BLOB_STR, BLOB_NAME)"
   ]
  },
  {
   "cell_type": "markdown",
   "metadata": {},
   "source": [
    "# access token?"
   ]
  },
  {
   "cell_type": "code",
   "execution_count": 12,
   "metadata": {},
   "outputs": [],
   "source": [
    "from oauth2client.service_account import ServiceAccountCredentials\n",
    "from oauth2client.client import OAuth2Credentials"
   ]
  },
  {
   "cell_type": "code",
   "execution_count": 13,
   "metadata": {},
   "outputs": [],
   "source": [
    "credentials = ServiceAccountCredentials.from_json_keyfile_name(\n",
    "      'gsuite_svc_acc.json', scopes=['https://www.googleapis.com/auth/drive.file'])\n",
    "access_token_info = credentials.get_access_token()\n",
    "\n",
    "# credentials = OAuth2Credentials.from_json(\n",
    "#       'gsuite_credentials.json')\n",
    "# credentials.get_access_token()"
   ]
  },
  {
   "cell_type": "code",
   "execution_count": 14,
   "metadata": {
    "scrolled": true
   },
   "outputs": [
    {
     "data": {
      "text/plain": [
       "'ya29.c.Kl2bB_EQECMjnbsdvCmx0rxkf8ig272sNDpHW_ppCS0vN5NLdbMkzOyGe5MHGwXGkQfDZsl-tC7yQABEEOYLnr1nFOPjqLitG9IbY0gn7G2uD0dLFRb7J_724aD-3z4'"
      ]
     },
     "execution_count": 14,
     "metadata": {},
     "output_type": "execute_result"
    }
   ],
   "source": [
    "access_token_info.access_token"
   ]
  },
  {
   "cell_type": "code",
   "execution_count": 15,
   "metadata": {},
   "outputs": [
    {
     "data": {
      "text/plain": [
       "UUID('0a5b5884-40cc-417e-ac82-8682c8f3b9d0')"
      ]
     },
     "execution_count": 15,
     "metadata": {},
     "output_type": "execute_result"
    }
   ],
   "source": [
    "uuid.uuid4()"
   ]
  },
  {
   "cell_type": "code",
   "execution_count": 16,
   "metadata": {},
   "outputs": [],
   "source": [
    "import uuid\n",
    "import requests\n",
    "import json"
   ]
  },
  {
   "cell_type": "code",
   "execution_count": 19,
   "metadata": {},
   "outputs": [],
   "source": [
    "channel_id = str(uuid.uuid4())\n",
    "SCOPES = ['https://www.googleapis.com/auth/drive.file',\n",
    "         'https://www.googleapis.com/auth/drive.readonly',\n",
    "         'https://www.googleapis.com/auth/drive']\n",
    "\n",
    "token = access_token_info.access_token\n",
    "\n",
    "header = {\n",
    "    'Authorization': f'Bearer {token}',\n",
    "    'Content-Type': 'application/json'\n",
    "}\n",
    "\n",
    "body = {\n",
    "#     \"kind\": \"api#channel\",\n",
    "    \"id\": channel_id,\n",
    "    \"type\": \"web_hook\",\n",
    "    \"address\": 'https://us-central1-data-team-231118.cloudfunctions.net/gsuite_meta/'\n",
    "}\n",
    "\n",
    "file_id = '1mcq90dK81WKiwgk9kczRyCccb6VO2H11kT2d5RoS8iQ'\n",
    "r = requests.post(url=f'https://www.googleapis.com/drive/v3/file/{file_id}/watch?pageToken=766', \n",
    "                  data=json.dumps(body), headers=header) \n"
   ]
  },
  {
   "cell_type": "code",
   "execution_count": 20,
   "metadata": {},
   "outputs": [
    {
     "data": {
      "text/plain": [
       "'Not Found'"
      ]
     },
     "execution_count": 20,
     "metadata": {},
     "output_type": "execute_result"
    }
   ],
   "source": [
    "r.text"
   ]
  },
  {
   "cell_type": "code",
   "execution_count": null,
   "metadata": {},
   "outputs": [],
   "source": [
    "r_list_files = requests.get(url='https://www.googleapis.com/drive/v3/drives', headers=header)"
   ]
  },
  {
   "cell_type": "code",
   "execution_count": null,
   "metadata": {},
   "outputs": [],
   "source": [
    "r_list_files.json()"
   ]
  },
  {
   "cell_type": "code",
   "execution_count": null,
   "metadata": {},
   "outputs": [],
   "source": []
  }
 ],
 "metadata": {
  "kernelspec": {
   "display_name": "Python 3",
   "language": "python",
   "name": "python3"
  },
  "language_info": {
   "codemirror_mode": {
    "name": "ipython",
    "version": 3
   },
   "file_extension": ".py",
   "mimetype": "text/x-python",
   "name": "python",
   "nbconvert_exporter": "python",
   "pygments_lexer": "ipython3",
   "version": "3.7.4"
  }
 },
 "nbformat": 4,
 "nbformat_minor": 2
}
